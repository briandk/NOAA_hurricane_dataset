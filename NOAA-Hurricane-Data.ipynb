{
 "cells": [
  {
   "cell_type": "code",
   "execution_count": 1,
   "metadata": {
    "collapsed": false
   },
   "outputs": [],
   "source": [
    "# Make plots inline\n",
    "%matplotlib inline\n",
    "\n",
    "# Make inline plots vector graphics instead of raster graphics\n",
    "from IPython.display import set_matplotlib_formats\n",
    "set_matplotlib_formats('pdf', 'svg')\n",
    "\n",
    "# import modules for plotting and data analysis\n",
    "import matplotlib.pyplot # as plt\n",
    "import numpy as np\n",
    "import pandas as pd\n",
    "from ggplot import aes\n",
    "from ggplot import geom_histogram\n",
    "from ggplot import geom_bar"
   ]
  },
  {
   "cell_type": "markdown",
   "metadata": {},
   "source": [
    "## Load the data"
   ]
  },
  {
   "cell_type": "code",
   "execution_count": 2,
   "metadata": {
    "collapsed": false
   },
   "outputs": [],
   "source": [
    "hurricane_data = pd.read_csv(\"combined_hurricane_data.csv\", index_col=False)"
   ]
  },
  {
   "cell_type": "code",
   "execution_count": 3,
   "metadata": {
    "collapsed": false
   },
   "outputs": [
    {
     "data": {
      "text/plain": [
       "(75242, 26)"
      ]
     },
     "execution_count": 3,
     "metadata": {},
     "output_type": "execute_result"
    }
   ],
   "source": [
    "hurricane_data.shape"
   ]
  },
  {
   "cell_type": "code",
   "execution_count": 4,
   "metadata": {
    "collapsed": false
   },
   "outputs": [
    {
     "data": {
      "text/plain": [
       "Index(['basin', 'name', 'year', 'cyclone_of_the_year', 'num_of_track_entries',\n",
       "       'date', 'time', 'record_identifier', 'status_of_system', 'latitude',\n",
       "       'longitude', 'max_sustained_wind', 'central_pressure', '34kt_NE',\n",
       "       '34kt_SE', '34kt_SW', '34kt_NW', '50kt_NE', '50kt_SE', '50kt_SW',\n",
       "       '50kt_NW', '64kt_NE', '64kt_SE', '64kt_SW', '64kt_NW', 'ocean'],\n",
       "      dtype='object')"
      ]
     },
     "execution_count": 4,
     "metadata": {},
     "output_type": "execute_result"
    }
   ],
   "source": [
    "hurricane_data.columns"
   ]
  },
  {
   "cell_type": "code",
   "execution_count": 5,
   "metadata": {
    "collapsed": false
   },
   "outputs": [
    {
     "data": {
      "text/html": [
       "<div>\n",
       "<table border=\"1\" class=\"dataframe\">\n",
       "  <thead>\n",
       "    <tr style=\"text-align: right;\">\n",
       "      <th></th>\n",
       "      <th>basin</th>\n",
       "      <th>name</th>\n",
       "      <th>year</th>\n",
       "      <th>cyclone_of_the_year</th>\n",
       "      <th>num_of_track_entries</th>\n",
       "      <th>date</th>\n",
       "      <th>time</th>\n",
       "      <th>record_identifier</th>\n",
       "      <th>status_of_system</th>\n",
       "      <th>latitude</th>\n",
       "      <th>...</th>\n",
       "      <th>34kt_NW</th>\n",
       "      <th>50kt_NE</th>\n",
       "      <th>50kt_SE</th>\n",
       "      <th>50kt_SW</th>\n",
       "      <th>50kt_NW</th>\n",
       "      <th>64kt_NE</th>\n",
       "      <th>64kt_SE</th>\n",
       "      <th>64kt_SW</th>\n",
       "      <th>64kt_NW</th>\n",
       "      <th>ocean</th>\n",
       "    </tr>\n",
       "  </thead>\n",
       "  <tbody>\n",
       "    <tr>\n",
       "      <th>0</th>\n",
       "      <td>AL</td>\n",
       "      <td>UNNAMED</td>\n",
       "      <td>1851</td>\n",
       "      <td>1</td>\n",
       "      <td>14</td>\n",
       "      <td>18510625</td>\n",
       "      <td>0</td>\n",
       "      <td>NaN</td>\n",
       "      <td>HU</td>\n",
       "      <td>28.0N</td>\n",
       "      <td>...</td>\n",
       "      <td>NaN</td>\n",
       "      <td>NaN</td>\n",
       "      <td>NaN</td>\n",
       "      <td>NaN</td>\n",
       "      <td>NaN</td>\n",
       "      <td>NaN</td>\n",
       "      <td>NaN</td>\n",
       "      <td>NaN</td>\n",
       "      <td>NaN</td>\n",
       "      <td>atlantic</td>\n",
       "    </tr>\n",
       "    <tr>\n",
       "      <th>1</th>\n",
       "      <td>AL</td>\n",
       "      <td>UNNAMED</td>\n",
       "      <td>1851</td>\n",
       "      <td>1</td>\n",
       "      <td>14</td>\n",
       "      <td>18510625</td>\n",
       "      <td>600</td>\n",
       "      <td>NaN</td>\n",
       "      <td>HU</td>\n",
       "      <td>28.0N</td>\n",
       "      <td>...</td>\n",
       "      <td>NaN</td>\n",
       "      <td>NaN</td>\n",
       "      <td>NaN</td>\n",
       "      <td>NaN</td>\n",
       "      <td>NaN</td>\n",
       "      <td>NaN</td>\n",
       "      <td>NaN</td>\n",
       "      <td>NaN</td>\n",
       "      <td>NaN</td>\n",
       "      <td>atlantic</td>\n",
       "    </tr>\n",
       "    <tr>\n",
       "      <th>2</th>\n",
       "      <td>AL</td>\n",
       "      <td>UNNAMED</td>\n",
       "      <td>1851</td>\n",
       "      <td>1</td>\n",
       "      <td>14</td>\n",
       "      <td>18510625</td>\n",
       "      <td>1200</td>\n",
       "      <td>NaN</td>\n",
       "      <td>HU</td>\n",
       "      <td>28.0N</td>\n",
       "      <td>...</td>\n",
       "      <td>NaN</td>\n",
       "      <td>NaN</td>\n",
       "      <td>NaN</td>\n",
       "      <td>NaN</td>\n",
       "      <td>NaN</td>\n",
       "      <td>NaN</td>\n",
       "      <td>NaN</td>\n",
       "      <td>NaN</td>\n",
       "      <td>NaN</td>\n",
       "      <td>atlantic</td>\n",
       "    </tr>\n",
       "  </tbody>\n",
       "</table>\n",
       "<p>3 rows × 26 columns</p>\n",
       "</div>"
      ],
      "text/plain": [
       "  basin     name  year  cyclone_of_the_year  num_of_track_entries      date  \\\n",
       "0    AL  UNNAMED  1851                    1                    14  18510625   \n",
       "1    AL  UNNAMED  1851                    1                    14  18510625   \n",
       "2    AL  UNNAMED  1851                    1                    14  18510625   \n",
       "\n",
       "   time record_identifier status_of_system latitude    ...    34kt_NW  \\\n",
       "0     0               NaN               HU    28.0N    ...        NaN   \n",
       "1   600               NaN               HU    28.0N    ...        NaN   \n",
       "2  1200               NaN               HU    28.0N    ...        NaN   \n",
       "\n",
       "   50kt_NE  50kt_SE  50kt_SW  50kt_NW  64kt_NE  64kt_SE  64kt_SW  64kt_NW  \\\n",
       "0      NaN      NaN      NaN      NaN      NaN      NaN      NaN      NaN   \n",
       "1      NaN      NaN      NaN      NaN      NaN      NaN      NaN      NaN   \n",
       "2      NaN      NaN      NaN      NaN      NaN      NaN      NaN      NaN   \n",
       "\n",
       "      ocean  \n",
       "0  atlantic  \n",
       "1  atlantic  \n",
       "2  atlantic  \n",
       "\n",
       "[3 rows x 26 columns]"
      ]
     },
     "execution_count": 5,
     "metadata": {},
     "output_type": "execute_result"
    }
   ],
   "source": [
    "hurricane_data.head(n=3)"
   ]
  },
  {
   "cell_type": "code",
   "execution_count": 6,
   "metadata": {
    "collapsed": false,
    "scrolled": false
   },
   "outputs": [
    {
     "data": {
      "text/html": [
       "<div>\n",
       "<table border=\"1\" class=\"dataframe\">\n",
       "  <thead>\n",
       "    <tr style=\"text-align: right;\">\n",
       "      <th></th>\n",
       "      <th>basin</th>\n",
       "      <th>name</th>\n",
       "      <th>year</th>\n",
       "      <th>cyclone_of_the_year</th>\n",
       "      <th>num_of_track_entries</th>\n",
       "      <th>date</th>\n",
       "      <th>time</th>\n",
       "      <th>record_identifier</th>\n",
       "      <th>status_of_system</th>\n",
       "      <th>latitude</th>\n",
       "      <th>...</th>\n",
       "      <th>34kt_NW</th>\n",
       "      <th>50kt_NE</th>\n",
       "      <th>50kt_SE</th>\n",
       "      <th>50kt_SW</th>\n",
       "      <th>50kt_NW</th>\n",
       "      <th>64kt_NE</th>\n",
       "      <th>64kt_SE</th>\n",
       "      <th>64kt_SW</th>\n",
       "      <th>64kt_NW</th>\n",
       "      <th>ocean</th>\n",
       "    </tr>\n",
       "  </thead>\n",
       "  <tbody>\n",
       "    <tr>\n",
       "      <th>75238</th>\n",
       "      <td>EP</td>\n",
       "      <td>SANDRA</td>\n",
       "      <td>2015</td>\n",
       "      <td>22</td>\n",
       "      <td>25</td>\n",
       "      <td>20151128</td>\n",
       "      <td>1800</td>\n",
       "      <td>NaN</td>\n",
       "      <td>LO</td>\n",
       "      <td>22.4N</td>\n",
       "      <td>...</td>\n",
       "      <td>0.0</td>\n",
       "      <td>0.0</td>\n",
       "      <td>0.0</td>\n",
       "      <td>0.0</td>\n",
       "      <td>0.0</td>\n",
       "      <td>0.0</td>\n",
       "      <td>0.0</td>\n",
       "      <td>0.0</td>\n",
       "      <td>0.0</td>\n",
       "      <td>pacific</td>\n",
       "    </tr>\n",
       "    <tr>\n",
       "      <th>75239</th>\n",
       "      <td>EP</td>\n",
       "      <td>SANDRA</td>\n",
       "      <td>2015</td>\n",
       "      <td>22</td>\n",
       "      <td>25</td>\n",
       "      <td>20151129</td>\n",
       "      <td>0</td>\n",
       "      <td>NaN</td>\n",
       "      <td>LO</td>\n",
       "      <td>23.1N</td>\n",
       "      <td>...</td>\n",
       "      <td>0.0</td>\n",
       "      <td>0.0</td>\n",
       "      <td>0.0</td>\n",
       "      <td>0.0</td>\n",
       "      <td>0.0</td>\n",
       "      <td>0.0</td>\n",
       "      <td>0.0</td>\n",
       "      <td>0.0</td>\n",
       "      <td>0.0</td>\n",
       "      <td>pacific</td>\n",
       "    </tr>\n",
       "    <tr>\n",
       "      <th>75240</th>\n",
       "      <td>EP</td>\n",
       "      <td>SANDRA</td>\n",
       "      <td>2015</td>\n",
       "      <td>22</td>\n",
       "      <td>25</td>\n",
       "      <td>20151129</td>\n",
       "      <td>600</td>\n",
       "      <td>NaN</td>\n",
       "      <td>LO</td>\n",
       "      <td>23.5N</td>\n",
       "      <td>...</td>\n",
       "      <td>0.0</td>\n",
       "      <td>0.0</td>\n",
       "      <td>0.0</td>\n",
       "      <td>0.0</td>\n",
       "      <td>0.0</td>\n",
       "      <td>0.0</td>\n",
       "      <td>0.0</td>\n",
       "      <td>0.0</td>\n",
       "      <td>0.0</td>\n",
       "      <td>pacific</td>\n",
       "    </tr>\n",
       "    <tr>\n",
       "      <th>75241</th>\n",
       "      <td>EP</td>\n",
       "      <td>SANDRA</td>\n",
       "      <td>2015</td>\n",
       "      <td>22</td>\n",
       "      <td>25</td>\n",
       "      <td>20151129</td>\n",
       "      <td>1200</td>\n",
       "      <td>NaN</td>\n",
       "      <td>LO</td>\n",
       "      <td>24.2N</td>\n",
       "      <td>...</td>\n",
       "      <td>0.0</td>\n",
       "      <td>0.0</td>\n",
       "      <td>0.0</td>\n",
       "      <td>0.0</td>\n",
       "      <td>0.0</td>\n",
       "      <td>0.0</td>\n",
       "      <td>0.0</td>\n",
       "      <td>0.0</td>\n",
       "      <td>0.0</td>\n",
       "      <td>pacific</td>\n",
       "    </tr>\n",
       "  </tbody>\n",
       "</table>\n",
       "<p>4 rows × 26 columns</p>\n",
       "</div>"
      ],
      "text/plain": [
       "      basin    name  year  cyclone_of_the_year  num_of_track_entries  \\\n",
       "75238    EP  SANDRA  2015                   22                    25   \n",
       "75239    EP  SANDRA  2015                   22                    25   \n",
       "75240    EP  SANDRA  2015                   22                    25   \n",
       "75241    EP  SANDRA  2015                   22                    25   \n",
       "\n",
       "           date  time record_identifier status_of_system latitude   ...     \\\n",
       "75238  20151128  1800               NaN               LO    22.4N   ...      \n",
       "75239  20151129     0               NaN               LO    23.1N   ...      \n",
       "75240  20151129   600               NaN               LO    23.5N   ...      \n",
       "75241  20151129  1200               NaN               LO    24.2N   ...      \n",
       "\n",
       "      34kt_NW  50kt_NE  50kt_SE  50kt_SW  50kt_NW  64kt_NE  64kt_SE  64kt_SW  \\\n",
       "75238     0.0      0.0      0.0      0.0      0.0      0.0      0.0      0.0   \n",
       "75239     0.0      0.0      0.0      0.0      0.0      0.0      0.0      0.0   \n",
       "75240     0.0      0.0      0.0      0.0      0.0      0.0      0.0      0.0   \n",
       "75241     0.0      0.0      0.0      0.0      0.0      0.0      0.0      0.0   \n",
       "\n",
       "       64kt_NW    ocean  \n",
       "75238      0.0  pacific  \n",
       "75239      0.0  pacific  \n",
       "75240      0.0  pacific  \n",
       "75241      0.0  pacific  \n",
       "\n",
       "[4 rows x 26 columns]"
      ]
     },
     "execution_count": 6,
     "metadata": {},
     "output_type": "execute_result"
    }
   ],
   "source": [
    "hurricane_data.tail(n=4)"
   ]
  },
  {
   "cell_type": "code",
   "execution_count": 7,
   "metadata": {
    "collapsed": false
   },
   "outputs": [
    {
     "data": {
      "text/plain": [
       "0    18510625\n",
       "1    18510625\n",
       "2    18510625\n",
       "3    18510625\n",
       "4    18510625\n",
       "Name: date, dtype: int64"
      ]
     },
     "execution_count": 7,
     "metadata": {},
     "output_type": "execute_result"
    }
   ],
   "source": [
    "hurricane_data.date.head()"
   ]
  },
  {
   "cell_type": "code",
   "execution_count": null,
   "metadata": {
    "collapsed": false
   },
   "outputs": [],
   "source": [
    "formatted_data = (\n",
    "    hurricane_data.time\n",
    "        .astype('str')\n",
    "        .replace({  '0': '0000',\n",
    "                  '600': '0600'})\n",
    "        .apply(lambda x: x[0:2])) # extract just the hours from military time\n",
    "hurricane_data.assign(time = pd.to_datetime(formatted_data, format=\"%H\"))"
   ]
  },
  {
   "cell_type": "code",
   "execution_count": null,
   "metadata": {
    "collapsed": false
   },
   "outputs": [],
   "source": [
    "# pd.to_datetime(\n",
    "#     hurricane_data.date, \n",
    "#     format=\"%Y%m%d\").tail()\n",
    "\n",
    "# (hurricane_data.time\n",
    "#     .apply(str)\n",
    "#     .replace({'time': {0: \"0000\"}})\n",
    "#     .apply(lambda x: pd.to_datetime(x[0:2], format=\"%H\")))\n",
    "    \n",
    "# hurricane_data.time.replace(\n",
    "#     {'time': {0: \"0000\"}}\n",
    "# ).head()\n"
   ]
  }
 ],
 "metadata": {
  "anaconda-cloud": {},
  "kernelspec": {
   "display_name": "Python [Root]",
   "language": "python",
   "name": "Python [Root]"
  },
  "language_info": {
   "codemirror_mode": {
    "name": "ipython",
    "version": 3
   },
   "file_extension": ".py",
   "mimetype": "text/x-python",
   "name": "python",
   "nbconvert_exporter": "python",
   "pygments_lexer": "ipython3",
   "version": "3.5.2"
  }
 },
 "nbformat": 4,
 "nbformat_minor": 1
}
